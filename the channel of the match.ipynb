{
 "cells": [
  {
   "cell_type": "code",
   "execution_count": 1,
   "id": "7a0b52f3",
   "metadata": {
    "ExecuteTime": {
     "end_time": "2023-08-31T12:46:25.961929Z",
     "start_time": "2023-08-31T12:46:25.625078Z"
    }
   },
   "outputs": [],
   "source": [
    "import requests\n",
    "from bs4 import BeautifulSoup\n",
    "import csv"
   ]
  },
  {
   "cell_type": "code",
   "execution_count": 2,
   "id": "2867a129",
   "metadata": {
    "ExecuteTime": {
     "end_time": "2023-08-31T12:46:45.181385Z",
     "start_time": "2023-08-31T12:46:43.677310Z"
    }
   },
   "outputs": [],
   "source": [
    "# Define the URL of the match center\n",
    "url = \"https://www.yallakora.com/match-center/?date=8/25/2023#\"\n",
    "\n",
    "# Send an HTTP GET request to the URL\n",
    "page = requests.get(url)\n",
    "src = page.content\n",
    "\n",
    "# Create a BeautifulSoup object to parse the HTML content\n",
    "soup = BeautifulSoup(src, 'html.parser')\n"
   ]
  },
  {
   "cell_type": "code",
   "execution_count": 3,
   "id": "dfdcd2e6",
   "metadata": {
    "ExecuteTime": {
     "end_time": "2023-08-31T12:46:54.694347Z",
     "start_time": "2023-08-31T12:46:54.646378Z"
    }
   },
   "outputs": [],
   "source": [
    "# Find all championships on the page\n",
    "championships = soup.find_all(\"div\", {\"class\" : \"matchCard\"})\n",
    "\n",
    "# Find championship title\n",
    "for i in range(len(championships)):\n",
    "    championship_title = championships[i].contents[1].find(\"h2\").text.strip()\n",
    "#     print(championship_title)"
   ]
  },
  {
   "cell_type": "code",
   "execution_count": 10,
   "id": "df339728",
   "metadata": {
    "ExecuteTime": {
     "end_time": "2023-08-31T13:03:03.320748Z",
     "start_time": "2023-08-31T13:03:03.257688Z"
    }
   },
   "outputs": [
    {
     "name": "stdout",
     "output_type": "stream",
     "text": [
      "أنجولا إيطاليا بى ان سبورت 2 HD\n",
      "فنلندا أستراليا بى ان سبورت 2 HD\n",
      "المكسيك الجبل الاسود بى ان سبورت 2 HD\n",
      "لاتفيا لبنان بى ان سبورت 2 HD\n",
      "الدومينيكان الفلبين بى ان سبورت 2 HD\n",
      "ألمانيا اليابان بى ان سبورت 2 HD\n",
      "مصر ليتوانيا بى ان سبورت 2 HD\n",
      "كندا فرنسا بى ان سبورت 2 HD\n",
      "تشيلسي لوتون تاون بى ان سبورت 2 HD\n",
      "لاس بالماس ريال سوسيداد بى ان سبورت 2 HD\n",
      "سيلتا فيجو ريال مدريد بى ان سبورت 2 HD\n",
      "الفيحاء الحزم بى ان سبورت 2 HD\n",
      "الشباب ضمك بى ان سبورت 2 HD\n",
      "الفتح النصر بى ان سبورت 2 HD\n",
      "التعاون أبها بى ان سبورت 2 HD\n",
      "لايبزيج شتوتجارت بى ان سبورت 2 HD\n",
      "نانت موناكو بى ان سبورت 2 HD\n",
      "قونيا سبور غازي عنتاب بي.بي.كي بى ان سبورت 2 HD\n",
      "المغرب الفاسي المغرب التطواني بى ان سبورت 2 HD\n",
      "إستريلا إستوريل بى ان سبورت 2 HD\n",
      "الدحيل معيذر بى ان سبورت 2 HD\n",
      "الريان نادي قطر بى ان سبورت 2 HD\n",
      "نادي الامارات عجمان بى ان سبورت 2 HD\n",
      "الجــزيرة الوحـــدة بى ان سبورت 2 HD\n"
     ]
    }
   ],
   "source": [
    "# Find all championships on the page\n",
    "for i in range(len(championships)):\n",
    "    matches_file = open(\"myfile.txt\",\"a\")\n",
    "\n",
    "    # Find championship title:\n",
    "    championship_title = championships[i].contents[1].find(\"h2\").text.strip()\n",
    "#     print(championship_title)\n",
    "    \n",
    "    # Find all match elements on the page:\n",
    "    matches = championships[i].find_all(\"li\")\n",
    "\n",
    "    for j in range(len(matches)):\n",
    "        # Find teams title:\n",
    "        teamA = matches[j].find(\"div\", {\"class\" : \"teamA\"}).find(\"p\").text.strip()\n",
    "        teamB = matches[j].find(\"div\", {\"class\" : \"teamB\"}).find(\"p\").text.strip()\n",
    "    \n",
    "        #Find scor:\n",
    "        results = matches[j].find('div', {'class':'MResult'}).find_all('span', {'class':'score'})\n",
    "        score = f'{results[0].text.strip()} - {results[1].text.strip()}'\n",
    "    \n",
    "        #Find time:\n",
    "        time = matches[j].find('div', {'class':'MResult'}).find('span', {'class':'time'}).text.strip()\n",
    "        \n",
    "        #Find channel:\n",
    "#         channel = matches[j].find(\"div\", {\"class\" : \"channel\"}).text.strip()\n",
    "        def extract_text():\n",
    "            try:\n",
    "                return matches[j].find(\"div\", {\"class\" : \"channel\"}).text.strip()\n",
    "            \n",
    "            except AttributeError as err:\n",
    "                print(err)\n",
    "                return None\n",
    "            \n",
    "            \n",
    "        if(channel != None):\n",
    "            print(teamA, teamB, channel)\n",
    "        "
   ]
  },
  {
   "cell_type": "code",
   "execution_count": null,
   "id": "7d9b04f9",
   "metadata": {},
   "outputs": [],
   "source": []
  }
 ],
 "metadata": {
  "kernelspec": {
   "display_name": "Python 3 (ipykernel)",
   "language": "python",
   "name": "python3"
  },
  "language_info": {
   "codemirror_mode": {
    "name": "ipython",
    "version": 3
   },
   "file_extension": ".py",
   "mimetype": "text/x-python",
   "name": "python",
   "nbconvert_exporter": "python",
   "pygments_lexer": "ipython3",
   "version": "3.9.12"
  }
 },
 "nbformat": 4,
 "nbformat_minor": 5
}
