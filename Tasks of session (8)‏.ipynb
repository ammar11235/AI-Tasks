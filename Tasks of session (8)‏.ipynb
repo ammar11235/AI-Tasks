{
 "cells": [
  {
   "cell_type": "code",
   "execution_count": 1,
   "id": "be0dffe3",
   "metadata": {
    "ExecuteTime": {
     "end_time": "2023-08-20T12:32:16.790243Z",
     "start_time": "2023-08-20T12:32:16.774488Z"
    }
   },
   "outputs": [],
   "source": [
    "import re\n",
    "\n",
    "myFile = open(r\"D:\\1#Courses\\1# AI\\AI_Tasks\\raw_data.txt\", \"r\") # read the file\n",
    "File =  open(r\"D:\\1#Courses\\1# AI\\AI_Tasks\\final_data.txt\", \"w\") # write in the new file\n",
    "\n",
    "text = myFile.read() # text \n",
    "\n",
    "namepattern = re.compile(r\"([A-Z][a-z]+)\\s([A-Z][A-z]+)\")\n",
    "names = namepattern.finditer(text)\n",
    "\n",
    "phonepattern = re.compile(r\"[\\d]{4}\\s[\\d]{3}\\s[\\d]{4}\")\n",
    "phones = phonepattern.finditer(text)\n",
    "\n",
    "mailpattern = re.compile(r\"([A-z0-9]+)@[A-z0-9]+\\.([A-z0-9]+)\")\n",
    "mails = mailpattern.finditer(text)\n",
    "\n",
    "lst = [\"Names \\t\\t Mails \\t\\t Phones\\n\"]\n",
    "\n",
    "for name, mail, phone in zip(names, mails, phones):\n",
    "    lst.append(name.group() + \", \" + mail.group() + \", \"  + phone.group() + \"\\n\")\n",
    "\n",
    "File.writelines(lst)\n",
    "\n",
    "myFile.close()\n",
    "File.close()\n"
   ]
  },
  {
   "cell_type": "code",
   "execution_count": null,
   "id": "48b0cfab",
   "metadata": {},
   "outputs": [],
   "source": []
  }
 ],
 "metadata": {
  "kernelspec": {
   "display_name": "Python 3 (ipykernel)",
   "language": "python",
   "name": "python3"
  },
  "language_info": {
   "codemirror_mode": {
    "name": "ipython",
    "version": 3
   },
   "file_extension": ".py",
   "mimetype": "text/x-python",
   "name": "python",
   "nbconvert_exporter": "python",
   "pygments_lexer": "ipython3",
   "version": "3.9.12"
  }
 },
 "nbformat": 4,
 "nbformat_minor": 5
}
