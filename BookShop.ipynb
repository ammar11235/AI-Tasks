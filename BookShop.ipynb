{
 "cells": [
  {
   "cell_type": "code",
   "execution_count": 1,
   "id": "c9d05f9a",
   "metadata": {
    "ExecuteTime": {
     "end_time": "2023-08-31T12:39:57.349745Z",
     "start_time": "2023-08-31T12:39:57.030863Z"
    }
   },
   "outputs": [],
   "source": [
    "import requests\n",
    "from bs4 import BeautifulSoup\n",
    "import csv"
   ]
  },
  {
   "cell_type": "code",
   "execution_count": 4,
   "id": "db48f2fd",
   "metadata": {
    "ExecuteTime": {
     "end_time": "2023-08-31T12:40:35.685806Z",
     "start_time": "2023-08-31T12:40:34.721979Z"
    },
    "code_folding": []
   },
   "outputs": [],
   "source": [
    "# Define the URL of the match center\n",
    "url = \"https://books.toscrape.com/\"\n",
    "\n",
    "# Send an HTTP GET request to the URL\n",
    "page = requests.get(url)\n",
    "src = page.content\n",
    "\n",
    "# Create a BeautifulSoup object to parse the HTML content\n",
    "soup = BeautifulSoup(src, 'lxml')"
   ]
  },
  {
   "cell_type": "code",
   "execution_count": 8,
   "id": "7b4c567b",
   "metadata": {
    "ExecuteTime": {
     "end_time": "2023-08-31T12:41:07.136493Z",
     "start_time": "2023-08-31T12:41:07.120584Z"
    }
   },
   "outputs": [],
   "source": [
    "books = soup.find(\"ol\", {\"class\" : \"row\"}).find_all(\"li\")"
   ]
  },
  {
   "cell_type": "code",
   "execution_count": 7,
   "id": "c2e94dc4",
   "metadata": {
    "ExecuteTime": {
     "end_time": "2023-08-31T12:40:59.361162Z",
     "start_time": "2023-08-31T12:40:59.313153Z"
    },
    "code_folding": []
   },
   "outputs": [
    {
     "name": "stdout",
     "output_type": "stream",
     "text": [
      "Title: A Light in the ...\n",
      "Price: £51.77\n",
      "status: In stock\n",
      "Rating: Three\n",
      "----------\n",
      "Title: Tipping the Velvet\n",
      "Price: £53.74\n",
      "status: In stock\n",
      "Rating: One\n",
      "----------\n",
      "Title: Soumission\n",
      "Price: £50.10\n",
      "status: In stock\n",
      "Rating: One\n",
      "----------\n",
      "Title: Sharp Objects\n",
      "Price: £47.82\n",
      "status: In stock\n",
      "Rating: Four\n",
      "----------\n",
      "Title: Sapiens: A Brief History ...\n",
      "Price: £54.23\n",
      "status: In stock\n",
      "Rating: Five\n",
      "----------\n",
      "Title: The Requiem Red\n",
      "Price: £22.65\n",
      "status: In stock\n",
      "Rating: One\n",
      "----------\n",
      "Title: The Dirty Little Secrets ...\n",
      "Price: £33.34\n",
      "status: In stock\n",
      "Rating: Four\n",
      "----------\n",
      "Title: The Coming Woman: A ...\n",
      "Price: £17.93\n",
      "status: In stock\n",
      "Rating: Three\n",
      "----------\n",
      "Title: The Boys in the ...\n",
      "Price: £22.60\n",
      "status: In stock\n",
      "Rating: Four\n",
      "----------\n",
      "Title: The Black Maria\n",
      "Price: £52.15\n",
      "status: In stock\n",
      "Rating: One\n",
      "----------\n",
      "Title: Starving Hearts (Triangular Trade ...\n",
      "Price: £13.99\n",
      "status: In stock\n",
      "Rating: Two\n",
      "----------\n",
      "Title: Shakespeare's Sonnets\n",
      "Price: £20.66\n",
      "status: In stock\n",
      "Rating: Four\n",
      "----------\n",
      "Title: Set Me Free\n",
      "Price: £17.46\n",
      "status: In stock\n",
      "Rating: Five\n",
      "----------\n",
      "Title: Scott Pilgrim's Precious Little ...\n",
      "Price: £52.29\n",
      "status: In stock\n",
      "Rating: Five\n",
      "----------\n",
      "Title: Rip it Up and ...\n",
      "Price: £35.02\n",
      "status: In stock\n",
      "Rating: Five\n",
      "----------\n",
      "Title: Our Band Could Be ...\n",
      "Price: £57.25\n",
      "status: In stock\n",
      "Rating: Three\n",
      "----------\n",
      "Title: Olio\n",
      "Price: £23.88\n",
      "status: In stock\n",
      "Rating: One\n",
      "----------\n",
      "Title: Mesaerion: The Best Science ...\n",
      "Price: £37.59\n",
      "status: In stock\n",
      "Rating: One\n",
      "----------\n",
      "Title: Libertarianism for Beginners\n",
      "Price: £51.33\n",
      "status: In stock\n",
      "Rating: Two\n",
      "----------\n",
      "Title: It's Only the Himalayas\n",
      "Price: £45.17\n",
      "status: In stock\n",
      "Rating: Two\n",
      "----------\n"
     ]
    }
   ],
   "source": [
    "for i in range(len(books)):\n",
    "    title = books[i].find(\"h3\").text.strip()\n",
    "    price = books[i].find(\"p\", {\"class\" : \"price_color\"}).text.strip()\n",
    "    status = books[i].find(\"p\", {\"class\" : \"instock\"}).text.strip()\n",
    "    rating = books[i].find(\"p\")[\"class\"][1]\n",
    "    \n",
    "    print(f\"Title: {title}\")\n",
    "    print(f\"Price: {price}\")\n",
    "    print(f\"status: {status}\")\n",
    "    print(f\"Rating: {rating}\")\n",
    "    print(\"----------\")"
   ]
  },
  {
   "cell_type": "code",
   "execution_count": null,
   "id": "251bda52",
   "metadata": {},
   "outputs": [],
   "source": []
  }
 ],
 "metadata": {
  "kernelspec": {
   "display_name": "Python 3 (ipykernel)",
   "language": "python",
   "name": "python3"
  },
  "language_info": {
   "codemirror_mode": {
    "name": "ipython",
    "version": 3
   },
   "file_extension": ".py",
   "mimetype": "text/x-python",
   "name": "python",
   "nbconvert_exporter": "python",
   "pygments_lexer": "ipython3",
   "version": "3.9.12"
  }
 },
 "nbformat": 4,
 "nbformat_minor": 5
}
