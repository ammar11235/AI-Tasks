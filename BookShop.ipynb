{
 "cells": [
  {
   "cell_type": "code",
   "execution_count": 1,
   "id": "787ab939",
   "metadata": {
    "ExecuteTime": {
     "end_time": "2023-08-31T12:39:57.349745Z",
     "start_time": "2023-08-31T12:39:57.030863Z"
    }
   },
   "outputs": [],
   "source": [
    "import requests\n",
    "from bs4 import BeautifulSoup\n",
    "import csv"
   ]
  },
  {
   "cell_type": "code",
   "execution_count": 2,
   "id": "46ae404a",
   "metadata": {
    "ExecuteTime": {
     "end_time": "2023-08-31T12:39:59.748296Z",
     "start_time": "2023-08-31T12:39:58.790710Z"
    },
    "code_folding": []
   },
   "outputs": [],
   "source": [
    "# Define the URL of the match center\n",
    "url = \"https://books.toscrape.com/\"\n",
    "\n",
    "# Send an HTTP GET request to the URL\n",
    "page = requests.get(url)\n",
    "src = page.content\n",
    "\n",
    "# Create a BeautifulSoup object to parse the HTML content\n",
    "soup = BeautifulSoup(src, 'lxml')"
   ]
  },
  {
   "cell_type": "code",
   "execution_count": null,
   "id": "bfa270ca",
   "metadata": {},
   "outputs": [],
   "source": [
    "books_details = []\n",
    "for i in range(len(books)):\n",
    "    title = books[i].find(\"h3\").text.strip()\n",
    "    price = books[i].find(\"p\", {\"class\" : \"price_color\"}).text.strip()\n",
    "    status = books[i].find(\"p\", {\"class\" : \"instock\"}).text.strip()\n",
    "    rating = books[i].find(\"p\")[\"class\"][1]\n",
    "    \n",
    "#     print(f\"Title: {title}\")\n",
    "#     print(f\"Price: {price}\")\n",
    "#     print(f\"status: {status}\")\n",
    "#     print(f\"Rating: {rating}\")\n",
    "#     print(\"----------\")\n",
    "\n"
   ]
  }
 ],
 "metadata": {
  "kernelspec": {
   "display_name": "Python 3 (ipykernel)",
   "language": "python",
   "name": "python3"
  },
  "language_info": {
   "codemirror_mode": {
    "name": "ipython",
    "version": 3
   },
   "file_extension": ".py",
   "mimetype": "text/x-python",
   "name": "python",
   "nbconvert_exporter": "python",
   "pygments_lexer": "ipython3",
   "version": "3.9.12"
  }
 },
 "nbformat": 4,
 "nbformat_minor": 5
}
